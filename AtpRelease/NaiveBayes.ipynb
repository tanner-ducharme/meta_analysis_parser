{
 "cells": [
  {
   "cell_type": "code",
   "execution_count": 93,
   "metadata": {},
   "outputs": [],
   "source": [
    "import pickle\n",
    "\n",
    "import pandas as pd\n",
    "import numpy as np\n",
    "\n",
    "#sklearn\n",
    "from sklearn.feature_extraction.text import CountVectorizer, TfidfVectorizer\n",
    "from sklearn.model_selection import train_test_split\n",
    "from sklearn.naive_bayes import BernoulliNB\n",
    "\n",
    "import matplotlib.pyplot as plt\n",
    "\n",
    "\n"
   ]
  },
  {
   "cell_type": "code",
   "execution_count": null,
   "metadata": {},
   "outputs": [],
   "source": [
    "# 3:45 pm 6 pm"
   ]
  },
  {
   "cell_type": "code",
   "execution_count": 12,
   "metadata": {},
   "outputs": [],
   "source": [
    "with open('data/used_query_terms.pkl', 'rb') as f:\n",
    "    query_terms = pickle.load(f)\n",
    "    \n",
    "# terms"
   ]
  },
  {
   "cell_type": "code",
   "execution_count": 8,
   "metadata": {},
   "outputs": [],
   "source": [
    "text_df = pd.read_pickle('data/data_frame_no_paper.pkl')"
   ]
  },
  {
   "cell_type": "markdown",
   "metadata": {},
   "source": [
    "vectorize the text"
   ]
  },
  {
   "cell_type": "code",
   "execution_count": 13,
   "metadata": {},
   "outputs": [],
   "source": [
    "# query_terms\n",
    "vect_binary = CountVectorizer(binary = True, vocabulary = query_terms)\n",
    "vect_freq   = CountVectorizer(binary = False, vocabulary = query_terms)\n",
    "vect_tfidf  = TfidfVectorizer(vocabulary = query_terms)\n",
    "\n",
    "binary_overlap_vectors = vect_binary.fit_transform(text_df['all_text'])\n",
    "freq_overlap_vectors = vect_freq.fit_transform(text_df['all_text'])\n",
    "tfidf_overlap_vectors = vect_tfidf.fit_transform(text_df['all_text'])"
   ]
  },
  {
   "cell_type": "code",
   "execution_count": 14,
   "metadata": {},
   "outputs": [],
   "source": [
    "binary_overlap_vectors = [vec for vec in binary_overlap_vectors.toarray()]\n",
    "freq_overlap_vectors = [vec for vec in freq_overlap_vectors.toarray()]\n",
    "tfidf_overlap_vectors = [vec for vec in tfidf_overlap_vectors.toarray()]"
   ]
  },
  {
   "cell_type": "code",
   "execution_count": 15,
   "metadata": {},
   "outputs": [],
   "source": [
    "overlap_df = text_df['title'].to_frame()\n",
    "overlap_df = overlap_df.assign(all_text = text_df['all_text'])\n",
    "overlap_df = overlap_df.assign(binary_vector = binary_overlap_vectors)\n",
    "overlap_df = overlap_df.assign(freq_vector = freq_overlap_vectors)\n",
    "overlap_df = overlap_df.assign(tfidf_vector = tfidf_overlap_vectors)\n",
    "\n",
    "relevant_vec = []\n",
    "for val in text_df['relevant'].values:\n",
    "    if val == True:\n",
    "        relevant_vec.append(1)\n",
    "    else:\n",
    "        relevant_vec.append(0)\n",
    "overlap_df = overlap_df.assign(relevant = relevant_vec)\n",
    "\n",
    "overlap_df = overlap_df.sample(frac=1).reset_index(drop=True)"
   ]
  },
  {
   "cell_type": "code",
   "execution_count": 20,
   "metadata": {},
   "outputs": [],
   "source": [
    "train, validate, test = np.split(overlap_df.sample(frac=1), [int(.6*len(overlap_df)), int(.8*len(overlap_df))])\n",
    "\n",
    "binary_vectors_valid = validate['binary_vector'].tolist()\n",
    "binary_vectors_train = train['binary_vector'].tolist()\n",
    "binary_vectors_test = test['binary_vector'].tolist()\n",
    "\n",
    "freq_vectors_valid = validate['freq_vector'].tolist()\n",
    "freq_vectors_train = train['freq_vector'].tolist()\n",
    "freq_vectors_test = test['freq_vector'].tolist()\n",
    "\n",
    "tfidf_vectors_valid = validate['tfidf_vector'].tolist()\n",
    "tfidf_vectors_train = train['tfidf_vector'].tolist()\n",
    "tfidf_vectors_test = test['tfidf_vector'].tolist()\n",
    "\n",
    "\n",
    "\n",
    "y_valid = validate['relevant'].values\n",
    "y_train = train['relevant'].values\n",
    "y_test = test['relevant'].values\n"
   ]
  },
  {
   "cell_type": "code",
   "execution_count": 131,
   "metadata": {},
   "outputs": [],
   "source": [
    "clf = BernoulliNB(fit_prior = False, alpha=.005)\n",
    "y_pred = clf.fit(binary_vectors_valid, y_valid)\n",
    "probs = y_pred.predict_proba(binary_vectors_valid).tolist()\n",
    "probs = [prob[0] for prob in probs]\n",
    "\n",
    "pred = clf.predict(binary_vectors_test)"
   ]
  },
  {
   "cell_type": "code",
   "execution_count": 132,
   "metadata": {},
   "outputs": [
    {
     "data": {
      "text/plain": [
       "277"
      ]
     },
     "execution_count": 132,
     "metadata": {},
     "output_type": "execute_result"
    }
   ],
   "source": [
    "sum(y_valid) + sum(y_test) + sum(y_train)"
   ]
  },
  {
   "cell_type": "code",
   "execution_count": 133,
   "metadata": {},
   "outputs": [],
   "source": [
    "# the tuples in prob_with_class represent the probability the paper was not relevant (class 0) and it's predicted class\n",
    "\n",
    "\n",
    "prob_with_class = list(zip(probs, y_valid))\n",
    "prob_with_class.sort(reverse = True)\n",
    "# prob_with_class\n",
    "pos_probs = [tup[0] for tup in prob_with_class if tup[1]==1]\n",
    "neg_probs = [tup[0] for tup in prob_with_class if tup[1]==0]"
   ]
  },
  {
   "cell_type": "markdown",
   "metadata": {},
   "source": [
    "we'll create a histogram to see how the data is distributed"
   ]
  },
  {
   "cell_type": "code",
   "execution_count": null,
   "metadata": {},
   "outputs": [],
   "source": []
  },
  {
   "cell_type": "code",
   "execution_count": 134,
   "metadata": {},
   "outputs": [],
   "source": [
    "neg = pd.Series(neg_probs)\n",
    "pos = pd.Series(pos_probs)"
   ]
  },
  {
   "cell_type": "code",
   "execution_count": 135,
   "metadata": {},
   "outputs": [
    {
     "data": {
      "image/png": "[encoded data removed]",
      "text/plain": [
       "<Figure size 432x288 with 1 Axes>"
      ]
     },
     "metadata": {
      "needs_background": "light"
     },
     "output_type": "display_data"
    }
   ],
   "source": [
    "neg.plot.hist(grid=True, bins=10, rwidth=0.9,\n",
    "                   color='#607c8e')\n",
    "plt.title('Predicted probability for neg class')\n",
    "plt.xlabel('probability')\n",
    "plt.ylabel('counts')\n",
    "plt.grid(axis='y', alpha=0.75)"
   ]
  },
  {
   "cell_type": "code",
   "execution_count": 136,
   "metadata": {},
   "outputs": [
    {
     "data": {
      "image/png": "[encoded data removed]",
      "text/plain": [
       "<Figure size 432x288 with 1 Axes>"
      ]
     },
     "metadata": {
      "needs_background": "light"
     },
     "output_type": "display_data"
    }
   ],
   "source": [
    "pos.plot.hist(grid=True, bins=10, rwidth=0.9,\n",
    "                   color='#607c8e')\n",
    "plt.title('Predicted probability for pos class')\n",
    "plt.xlabel('probability')\n",
    "plt.ylabel('counts')\n",
    "plt.grid(axis='y', alpha=0.75)"
   ]
  },
  {
   "cell_type": "code",
   "execution_count": 137,
   "metadata": {},
   "outputs": [
    {
     "name": "stderr",
     "output_type": "stream",
     "text": [
      "C:\\Users\\Tanner\\AppData\\Local\\Continuum\\anaconda3\\lib\\site-packages\\matplotlib\\axes\\_axes.py:6521: MatplotlibDeprecationWarning: \n",
      "The 'normed' kwarg was deprecated in Matplotlib 2.1 and will be removed in 3.1. Use 'density' instead.\n",
      "  alternative=\"'density'\", removal=\"3.1\")\n"
     ]
    },
    {
     "data": {
      "image/png": "[encoded data removed]",
      "text/plain": [
       "<Figure size 432x288 with 1 Axes>"
      ]
     },
     "metadata": {
      "needs_background": "light"
     },
     "output_type": "display_data"
    }
   ],
   "source": [
    "plt.figure()\n",
    "plt.hist([pos, neg], 10, stacked=True, normed = True)\n",
    "plt.show()"
   ]
  },
  {
   "cell_type": "code",
   "execution_count": 138,
   "metadata": {},
   "outputs": [
    {
     "name": "stdout",
     "output_type": "stream",
     "text": [
      "remove 1 out of 63 positive(1.587%) and 656 out of 1629 negative(40.27%) at cutoff 0.9\n",
      "\n",
      "remove 4 out of 63 positive(6.349%) and 938 out of 1629 negative(57.581%) at cutoff 0.8\n",
      "\n",
      "remove 5 out of 63 positive(7.937%) and 1069 out of 1629 negative(65.623%) at cutoff 0.7\n",
      "\n",
      "remove 7 out of 63 positive(11.111%) and 1201 out of 1629 negative(73.726%) at cutoff 0.6\n",
      "\n",
      "remove 13 out of 63 positive(20.635%) and 1292 out of 1629 negative(79.312%) at cutoff 0.5\n",
      "\n",
      "remove 16 out of 63 positive(25.397%) and 1371 out of 1629 negative(84.162%) at cutoff 0.4\n",
      "\n",
      "remove 28 out of 63 positive(44.444%) and 1451 out of 1629 negative(89.073%) at cutoff 0.3\n",
      "\n",
      "remove 31 out of 63 positive(49.206%) and 1512 out of 1629 negative(92.818%) at cutoff 0.2\n",
      "\n",
      "remove 39 out of 63 positive(61.905%) and 1578 out of 1629 negative(96.869%) at cutoff 0.1\n",
      "\n"
     ]
    }
   ],
   "source": [
    "cutoff = .9\n",
    "num_pos = 0\n",
    "num_neg = 0\n",
    "\n",
    "for prob in prob_with_class:\n",
    "#     print(prob)\n",
    "    if prob[0] > cutoff:\n",
    "        if prob[1]==1:\n",
    "            num_pos+=1\n",
    "#             print(prob)\n",
    "        else:\n",
    "#             print(prob)\n",
    "            num_neg+=1\n",
    "    else:\n",
    "        print(\"remove {} out of {} positive({}%) and {} out of {} negative({}%) at cutoff {}\\n\".format(num_pos, len(pos),np.around(num_pos/len(pos)*100, 3) ,num_neg, len(neg), np.around(num_neg/len(neg)*100, 3),np.around(cutoff, 2)))\n",
    "        cutoff -=.1"
   ]
  },
  {
   "cell_type": "markdown",
   "metadata": {},
   "source": [
    "If we remove the papers whose predicted probability of the negative class is greater 0.6, we cut out 73% of non relevant papers and only 11% of the relevant ones!!!!"
   ]
  },
  {
   "cell_type": "markdown",
   "metadata": {},
   "source": [
    "# do some cross validation, try with tf_idf"
   ]
  },
  {
   "cell_type": "code",
   "execution_count": null,
   "metadata": {},
   "outputs": [],
   "source": []
  }
 ],
 "metadata": {
  "kernelspec": {
   "display_name": "Python 3",
   "language": "python",
   "name": "python3"
  },
  "language_info": {
   "codemirror_mode": {
    "name": "ipython",
    "version": 3
   },
   "file_extension": ".py",
   "mimetype": "text/x-python",
   "name": "python",
   "nbconvert_exporter": "python",
   "pygments_lexer": "ipython3",
   "version": "3.7.1"
  }
 },
 "nbformat": 4,
 "nbformat_minor": 2
}
